{
  "nbformat": 4,
  "nbformat_minor": 0,
  "metadata": {
    "colab": {
      "name": "Pandas Basics",
      "provenance": [],
      "collapsed_sections": [
        "8xDIxQXjv1cs",
        "uCmfk1Urv7mM",
        "B6WJ99XswWfn",
        "I6tAKZoawCFA"
      ],
      "toc_visible": true,
      "include_colab_link": true
    },
    "kernelspec": {
      "name": "python3",
      "display_name": "Python 3"
    }
  },
  "cells": [
    {
      "cell_type": "markdown",
      "metadata": {
        "id": "view-in-github",
        "colab_type": "text"
      },
      "source": [
        "<a href=\"https://colab.research.google.com/github/motari-adrian/python-random-quote/blob/master/Pandas_Basics.ipynb\" target=\"_parent\"><img src=\"https://colab.research.google.com/assets/colab-badge.svg\" alt=\"Open In Colab\"/></a>"
      ]
    },
    {
      "cell_type": "markdown",
      "metadata": {
        "id": "W-53UhRAZyXH"
      },
      "source": [
        "<font color=\"green\">*To start working on this notebook, or any other notebook that we will use in the Moringa Data Science Course, we will need to save our own copy of it. We can do this by clicking File > Save a Copy in Drive. We will then be able to make edits to our own copy of this notebook.*</font>"
      ]
    },
    {
      "cell_type": "markdown",
      "metadata": {
        "id": "3R0yiLUspE2N"
      },
      "source": [
        "# Pandas Basics"
      ]
    },
    {
      "cell_type": "markdown",
      "metadata": {
        "id": "6iyeqDIjpHtR"
      },
      "source": [
        "## 1.0 Importing Pandas Library"
      ]
    },
    {
      "cell_type": "code",
      "metadata": {
        "id": "9AqzdpMxpG7O"
      },
      "source": [
        "# Let's import the pandas library just like we did with Numpy\n",
        "# \n",
        "import pandas as pd"
      ],
      "execution_count": 1,
      "outputs": []
    },
    {
      "cell_type": "markdown",
      "metadata": {
        "id": "sEswzBaTpTM9"
      },
      "source": [
        "## 1.1 Performing Basic Operations"
      ]
    },
    {
      "cell_type": "code",
      "metadata": {
        "id": "l0XpP3jnhsiH",
        "colab": {
          "base_uri": "https://localhost:8080/",
          "height": 111
        },
        "outputId": "d0a8fa69-a9de-4e88-a5e3-1bd0e7573254"
      },
      "source": [
        "# Example 1\n",
        "# Pandas is built on the NUmpy package.\n",
        "# It's main data structure is called DataFrame. Dataframes allows us to store and manipulate data in row and column observations\n",
        "\n",
        "\n",
        "# In this section, we will cover some of the basic operations \n",
        "# that we perform while using pandas.\n",
        "# The first thing we will do is to create a Dataframe from a dictionary as shown below;\n",
        "# Think of a Dataframe as a table. By definition, a DataFrame is a 2-dimensional labeled data structure \n",
        "# with columns of potentially different types.\n",
        "# \n",
        "data = [{\n",
        "    'name': 'vikash',\n",
        "     'age': 27},\n",
        "      {'name': 'Satyam',\n",
        "       'age': 14\n",
        "       }]\n",
        "df = pd.DataFrame.from_dict(data, orient='columns')\n",
        "df\n",
        "\n",
        "# Something to note in the results is that everytime you create a dataframe it will automatically assign indexes to the row. "
      ],
      "execution_count": 2,
      "outputs": [
        {
          "output_type": "execute_result",
          "data": {
            "text/html": [
              "<div>\n",
              "<style scoped>\n",
              "    .dataframe tbody tr th:only-of-type {\n",
              "        vertical-align: middle;\n",
              "    }\n",
              "\n",
              "    .dataframe tbody tr th {\n",
              "        vertical-align: top;\n",
              "    }\n",
              "\n",
              "    .dataframe thead th {\n",
              "        text-align: right;\n",
              "    }\n",
              "</style>\n",
              "<table border=\"1\" class=\"dataframe\">\n",
              "  <thead>\n",
              "    <tr style=\"text-align: right;\">\n",
              "      <th></th>\n",
              "      <th>name</th>\n",
              "      <th>age</th>\n",
              "    </tr>\n",
              "  </thead>\n",
              "  <tbody>\n",
              "    <tr>\n",
              "      <th>0</th>\n",
              "      <td>vikash</td>\n",
              "      <td>27</td>\n",
              "    </tr>\n",
              "    <tr>\n",
              "      <th>1</th>\n",
              "      <td>Satyam</td>\n",
              "      <td>14</td>\n",
              "    </tr>\n",
              "  </tbody>\n",
              "</table>\n",
              "</div>"
            ],
            "text/plain": [
              "     name  age\n",
              "0  vikash   27\n",
              "1  Satyam   14"
            ]
          },
          "metadata": {
            "tags": []
          },
          "execution_count": 2
        }
      ]
    },
    {
      "cell_type": "code",
      "metadata": {
        "id": "jzzwtEI6vUTy"
      },
      "source": [
        "# Example 2\n",
        "# We can also create a Dataframe by inserting rows iteratively\n",
        "# \n",
        "\n",
        "# For this example, we will use the randint() function \n",
        "# thus we will need to import it\n",
        "from random import randint\n",
        "\n",
        "# We will also need to declare the columns that we will need \n",
        "columns = ['a', 'b', 'c']\n",
        "\n",
        "# Then creating our dataframe\n",
        "df = pd.DataFrame(columns=columns)\n",
        "\n",
        "# lastly append random values to the dataframe iteratively using a for loop.\n",
        "# We are going to use two for loops. the first one will be for the number of rows and the second one will be for the number of columns.\n",
        "# In the outer loop, we will create a range of number from 0-5, then iterate through it. This means that we will have 6 rows\n",
        "# We'll explain the logic of this code from the inside out. \n",
        "# So inside the inner loop, we  aim to populate our dataframe with random integers that are between -1 and 1.\n",
        "# Hence everytime we generate out random number, we use pandas dataframe method called loc[] to insert the random number in either of the three columns\n",
        "# The .loc method works in the same way slicing works in python list. This means that it can be used to access elements inside a dataframe. As such, we can also use it to update elements in a dataframe. When we created the  empty dataframe earlier, it meant that the elements were null. So in our code we are simply updating the null elements with values.\n",
        "# The logic for this code can be alittle bit confusing at first, so spend a little bit of time with your pair trying understand how the code works as it will help you alot in the future.\n",
        "for i in range(7): #6 rows\n",
        "    for c in columns:\n",
        "      df.loc[i,c] = randint(-1,1)\n",
        "  \n",
        "# and printing out the dataframe\n",
        "\n"
      ],
      "execution_count": 3,
      "outputs": []
    },
    {
      "cell_type": "code",
      "metadata": {
        "id": "tLCi0J4fvULQ",
        "colab": {
          "base_uri": "https://localhost:8080/"
        },
        "outputId": "c767d82c-91cb-49c8-8f08-c86601020df8"
      },
      "source": [
        "# Example 3\n",
        "# Creating a Dataframe with randomly generated data\n",
        "# \n",
        "\n",
        "# We will import and use numpy in this example\n",
        "import numpy as np\n",
        "\n",
        "np_mat = np.random.randint(0,5,size=(5, 4))\n",
        "\n",
        "np_mat\n",
        "\n",
        "# Uncomment the following lines after running the previous lines \n",
        "# df = pd.DataFrame(np_mat, columns=list('ABCD'))\n",
        "# df"
      ],
      "execution_count": 4,
      "outputs": [
        {
          "output_type": "execute_result",
          "data": {
            "text/plain": [
              "array([[3, 0, 0, 4],\n",
              "       [4, 1, 1, 0],\n",
              "       [0, 1, 0, 2],\n",
              "       [2, 3, 4, 2],\n",
              "       [0, 4, 2, 1]])"
            ]
          },
          "metadata": {
            "tags": []
          },
          "execution_count": 4
        }
      ]
    },
    {
      "cell_type": "code",
      "metadata": {
        "id": "6KxhQ17_vUBV",
        "colab": {
          "base_uri": "https://localhost:8080/",
          "height": 419
        },
        "outputId": "0ecaf86f-6291-43d1-8660-84552f5f6b28"
      },
      "source": [
        "# Example 4\n",
        "# Creating a Dataframe from a csv file \n",
        "# \n",
        "df = pd.read_csv('sample_data/california_housing_test.csv', delimiter = ',')\n",
        "df\n",
        "\n",
        "# Uncomment the following lines after running the previous lines\n",
        "df_url = \"https://raw.githubusercontent.com/cs109/2014_data/master/countries.csv\"\n",
        "df = pd.read_csv(df_url)\n",
        "df"
      ],
      "execution_count": 5,
      "outputs": [
        {
          "output_type": "execute_result",
          "data": {
            "text/html": [
              "<div>\n",
              "<style scoped>\n",
              "    .dataframe tbody tr th:only-of-type {\n",
              "        vertical-align: middle;\n",
              "    }\n",
              "\n",
              "    .dataframe tbody tr th {\n",
              "        vertical-align: top;\n",
              "    }\n",
              "\n",
              "    .dataframe thead th {\n",
              "        text-align: right;\n",
              "    }\n",
              "</style>\n",
              "<table border=\"1\" class=\"dataframe\">\n",
              "  <thead>\n",
              "    <tr style=\"text-align: right;\">\n",
              "      <th></th>\n",
              "      <th>Country</th>\n",
              "      <th>Region</th>\n",
              "    </tr>\n",
              "  </thead>\n",
              "  <tbody>\n",
              "    <tr>\n",
              "      <th>0</th>\n",
              "      <td>Algeria</td>\n",
              "      <td>AFRICA</td>\n",
              "    </tr>\n",
              "    <tr>\n",
              "      <th>1</th>\n",
              "      <td>Angola</td>\n",
              "      <td>AFRICA</td>\n",
              "    </tr>\n",
              "    <tr>\n",
              "      <th>2</th>\n",
              "      <td>Benin</td>\n",
              "      <td>AFRICA</td>\n",
              "    </tr>\n",
              "    <tr>\n",
              "      <th>3</th>\n",
              "      <td>Botswana</td>\n",
              "      <td>AFRICA</td>\n",
              "    </tr>\n",
              "    <tr>\n",
              "      <th>4</th>\n",
              "      <td>Burkina</td>\n",
              "      <td>AFRICA</td>\n",
              "    </tr>\n",
              "    <tr>\n",
              "      <th>...</th>\n",
              "      <td>...</td>\n",
              "      <td>...</td>\n",
              "    </tr>\n",
              "    <tr>\n",
              "      <th>189</th>\n",
              "      <td>Paraguay</td>\n",
              "      <td>SOUTH AMERICA</td>\n",
              "    </tr>\n",
              "    <tr>\n",
              "      <th>190</th>\n",
              "      <td>Peru</td>\n",
              "      <td>SOUTH AMERICA</td>\n",
              "    </tr>\n",
              "    <tr>\n",
              "      <th>191</th>\n",
              "      <td>Suriname</td>\n",
              "      <td>SOUTH AMERICA</td>\n",
              "    </tr>\n",
              "    <tr>\n",
              "      <th>192</th>\n",
              "      <td>Uruguay</td>\n",
              "      <td>SOUTH AMERICA</td>\n",
              "    </tr>\n",
              "    <tr>\n",
              "      <th>193</th>\n",
              "      <td>Venezuela</td>\n",
              "      <td>SOUTH AMERICA</td>\n",
              "    </tr>\n",
              "  </tbody>\n",
              "</table>\n",
              "<p>194 rows × 2 columns</p>\n",
              "</div>"
            ],
            "text/plain": [
              "       Country         Region\n",
              "0      Algeria         AFRICA\n",
              "1       Angola         AFRICA\n",
              "2        Benin         AFRICA\n",
              "3     Botswana         AFRICA\n",
              "4      Burkina         AFRICA\n",
              "..         ...            ...\n",
              "189   Paraguay  SOUTH AMERICA\n",
              "190       Peru  SOUTH AMERICA\n",
              "191   Suriname  SOUTH AMERICA\n",
              "192    Uruguay  SOUTH AMERICA\n",
              "193  Venezuela  SOUTH AMERICA\n",
              "\n",
              "[194 rows x 2 columns]"
            ]
          },
          "metadata": {
            "tags": []
          },
          "execution_count": 5
        }
      ]
    },
    {
      "cell_type": "code",
      "metadata": {
        "id": "kbusPTsgvT5s"
      },
      "source": [
        "# Example 5\n",
        "# Changing Dataframe column names \n",
        "# \n",
        "df_list = [['AA', 1, 'a'],['BB', 2, 'a'],['CC', 3, 'a']]\n",
        "\n",
        "df = pd.DataFrame(df_list, columns = ['name','value','salue'])\n",
        "# df\n",
        "\n",
        "# Uncomment the following lines after running this cell once\n",
        "# df.columns.values[1:] = ['prefix_' + val for val in df.columns.values[1:]]\n",
        "# df.columns.values\n",
        "# df"
      ],
      "execution_count": 6,
      "outputs": []
    },
    {
      "cell_type": "code",
      "metadata": {
        "id": "GsJjoGMVvTsE",
        "colab": {
          "base_uri": "https://localhost:8080/",
          "height": 142
        },
        "outputId": "257f3ad1-0c56-407c-cd34-47ca5e4f0b37"
      },
      "source": [
        "# Example 6\n",
        "# A simpler way of changing Dataframe column names \n",
        "#\n",
        "df_list = [['AA', \"temp\", 1],['BB', \"temp\", 2],['CC', \"temp\", 3]]\n",
        "df = pd.DataFrame(df_list, columns = ['name','temp', 'value'])\n",
        "df\n",
        "\n",
        "# Uncomment the following line\n",
        "# df.columns = ['names', 'temperature', 'values']\n",
        "# df"
      ],
      "execution_count": 7,
      "outputs": [
        {
          "output_type": "execute_result",
          "data": {
            "text/html": [
              "<div>\n",
              "<style scoped>\n",
              "    .dataframe tbody tr th:only-of-type {\n",
              "        vertical-align: middle;\n",
              "    }\n",
              "\n",
              "    .dataframe tbody tr th {\n",
              "        vertical-align: top;\n",
              "    }\n",
              "\n",
              "    .dataframe thead th {\n",
              "        text-align: right;\n",
              "    }\n",
              "</style>\n",
              "<table border=\"1\" class=\"dataframe\">\n",
              "  <thead>\n",
              "    <tr style=\"text-align: right;\">\n",
              "      <th></th>\n",
              "      <th>name</th>\n",
              "      <th>temp</th>\n",
              "      <th>value</th>\n",
              "    </tr>\n",
              "  </thead>\n",
              "  <tbody>\n",
              "    <tr>\n",
              "      <th>0</th>\n",
              "      <td>AA</td>\n",
              "      <td>temp</td>\n",
              "      <td>1</td>\n",
              "    </tr>\n",
              "    <tr>\n",
              "      <th>1</th>\n",
              "      <td>BB</td>\n",
              "      <td>temp</td>\n",
              "      <td>2</td>\n",
              "    </tr>\n",
              "    <tr>\n",
              "      <th>2</th>\n",
              "      <td>CC</td>\n",
              "      <td>temp</td>\n",
              "      <td>3</td>\n",
              "    </tr>\n",
              "  </tbody>\n",
              "</table>\n",
              "</div>"
            ],
            "text/plain": [
              "  name  temp  value\n",
              "0   AA  temp      1\n",
              "1   BB  temp      2\n",
              "2   CC  temp      3"
            ]
          },
          "metadata": {
            "tags": []
          },
          "execution_count": 7
        }
      ]
    },
    {
      "cell_type": "code",
      "metadata": {
        "id": "qSe2JKo4ve5n",
        "colab": {
          "base_uri": "https://localhost:8080/",
          "height": 142
        },
        "outputId": "e492dd00-d502-47ba-ab2c-48a8e71f8cfa"
      },
      "source": [
        "# Example 7\n",
        "# Choosing specific columns from a DataFrame\n",
        "# \n",
        "df_list = [['AA', \"temp\", 1],['BB', \"temp\", 2],['CC', \"temp\", 3]]\n",
        "df = pd.DataFrame(df_list, columns = ['name','temp', 'value'])\n",
        "df\n",
        "\n",
        "# Uncomment the following lines after running \n",
        "# df = df[[\"name\",\"temp\"]]\n",
        "# df"
      ],
      "execution_count": 8,
      "outputs": [
        {
          "output_type": "execute_result",
          "data": {
            "text/html": [
              "<div>\n",
              "<style scoped>\n",
              "    .dataframe tbody tr th:only-of-type {\n",
              "        vertical-align: middle;\n",
              "    }\n",
              "\n",
              "    .dataframe tbody tr th {\n",
              "        vertical-align: top;\n",
              "    }\n",
              "\n",
              "    .dataframe thead th {\n",
              "        text-align: right;\n",
              "    }\n",
              "</style>\n",
              "<table border=\"1\" class=\"dataframe\">\n",
              "  <thead>\n",
              "    <tr style=\"text-align: right;\">\n",
              "      <th></th>\n",
              "      <th>name</th>\n",
              "      <th>temp</th>\n",
              "      <th>value</th>\n",
              "    </tr>\n",
              "  </thead>\n",
              "  <tbody>\n",
              "    <tr>\n",
              "      <th>0</th>\n",
              "      <td>AA</td>\n",
              "      <td>temp</td>\n",
              "      <td>1</td>\n",
              "    </tr>\n",
              "    <tr>\n",
              "      <th>1</th>\n",
              "      <td>BB</td>\n",
              "      <td>temp</td>\n",
              "      <td>2</td>\n",
              "    </tr>\n",
              "    <tr>\n",
              "      <th>2</th>\n",
              "      <td>CC</td>\n",
              "      <td>temp</td>\n",
              "      <td>3</td>\n",
              "    </tr>\n",
              "  </tbody>\n",
              "</table>\n",
              "</div>"
            ],
            "text/plain": [
              "  name  temp  value\n",
              "0   AA  temp      1\n",
              "1   BB  temp      2\n",
              "2   CC  temp      3"
            ]
          },
          "metadata": {
            "tags": []
          },
          "execution_count": 8
        }
      ]
    },
    {
      "cell_type": "code",
      "metadata": {
        "id": "0baTHG36xe26",
        "colab": {
          "base_uri": "https://localhost:8080/",
          "height": 142
        },
        "outputId": "4bb61b1d-5c00-459a-dff9-94c0aaa811c3"
      },
      "source": [
        "# Example 8\n",
        "# Deleting/dropping columns or extracting columns from Dataframe \n",
        "# \n",
        "df_list = [['AA', \"temp\", 1],['BB', \"temp\", 2],['CC', \"temp\", 3]]\n",
        "df = pd.DataFrame(df_list, columns = ['name','value','temp'])\n",
        "df\n",
        "\n",
        "# Uncomment the following lines\n",
        "# df.drop('value', axis=1, inplace=True)\n",
        "# df\n",
        "\n",
        "# Uncomment the following lines after running the previous commented lines\n",
        "# df = pd.DataFrame([['AA', 1],['BB', 2],['CC', 3]], columns = ['name','value'])\n",
        "# df\n",
        "\n",
        "# Uncomment the following lines after running the previous commented lines\n",
        "# values = df.pop('value')\n",
        "# df\n",
        "\n",
        "# Uncomment the line below after running the previous commented lines\n",
        "# values"
      ],
      "execution_count": 9,
      "outputs": [
        {
          "output_type": "execute_result",
          "data": {
            "text/html": [
              "<div>\n",
              "<style scoped>\n",
              "    .dataframe tbody tr th:only-of-type {\n",
              "        vertical-align: middle;\n",
              "    }\n",
              "\n",
              "    .dataframe tbody tr th {\n",
              "        vertical-align: top;\n",
              "    }\n",
              "\n",
              "    .dataframe thead th {\n",
              "        text-align: right;\n",
              "    }\n",
              "</style>\n",
              "<table border=\"1\" class=\"dataframe\">\n",
              "  <thead>\n",
              "    <tr style=\"text-align: right;\">\n",
              "      <th></th>\n",
              "      <th>name</th>\n",
              "      <th>value</th>\n",
              "      <th>temp</th>\n",
              "    </tr>\n",
              "  </thead>\n",
              "  <tbody>\n",
              "    <tr>\n",
              "      <th>0</th>\n",
              "      <td>AA</td>\n",
              "      <td>temp</td>\n",
              "      <td>1</td>\n",
              "    </tr>\n",
              "    <tr>\n",
              "      <th>1</th>\n",
              "      <td>BB</td>\n",
              "      <td>temp</td>\n",
              "      <td>2</td>\n",
              "    </tr>\n",
              "    <tr>\n",
              "      <th>2</th>\n",
              "      <td>CC</td>\n",
              "      <td>temp</td>\n",
              "      <td>3</td>\n",
              "    </tr>\n",
              "  </tbody>\n",
              "</table>\n",
              "</div>"
            ],
            "text/plain": [
              "  name value  temp\n",
              "0   AA  temp     1\n",
              "1   BB  temp     2\n",
              "2   CC  temp     3"
            ]
          },
          "metadata": {
            "tags": []
          },
          "execution_count": 9
        }
      ]
    },
    {
      "cell_type": "markdown",
      "metadata": {
        "id": "gbShDqtivYNC"
      },
      "source": [
        "### <font color=\"green\">1.1 Challenges</font>"
      ]
    },
    {
      "cell_type": "code",
      "metadata": {
        "id": "cHdxGZiBvbdY",
        "colab": {
          "base_uri": "https://localhost:8080/",
          "height": 142
        },
        "outputId": "9662465b-7dfe-4a4c-81be-0350a94a46a3"
      },
      "source": [
        "# Challenge 1\n",
        "# Create a Dataframe from the following dictionary \n",
        "# \n",
        "studentData = {\n",
        "    'name' : ['jack', 'Riti', 'Aadi'],\n",
        "    'age' : [34, 30, 16],\n",
        "    'city' : ['Sydney', 'Delhi', 'New york']\n",
        "}\n",
        "\n",
        "stud = pd.DataFrame(studentData)\n",
        "stud"
      ],
      "execution_count": 10,
      "outputs": [
        {
          "output_type": "execute_result",
          "data": {
            "text/html": [
              "<div>\n",
              "<style scoped>\n",
              "    .dataframe tbody tr th:only-of-type {\n",
              "        vertical-align: middle;\n",
              "    }\n",
              "\n",
              "    .dataframe tbody tr th {\n",
              "        vertical-align: top;\n",
              "    }\n",
              "\n",
              "    .dataframe thead th {\n",
              "        text-align: right;\n",
              "    }\n",
              "</style>\n",
              "<table border=\"1\" class=\"dataframe\">\n",
              "  <thead>\n",
              "    <tr style=\"text-align: right;\">\n",
              "      <th></th>\n",
              "      <th>name</th>\n",
              "      <th>age</th>\n",
              "      <th>city</th>\n",
              "    </tr>\n",
              "  </thead>\n",
              "  <tbody>\n",
              "    <tr>\n",
              "      <th>0</th>\n",
              "      <td>jack</td>\n",
              "      <td>34</td>\n",
              "      <td>Sydney</td>\n",
              "    </tr>\n",
              "    <tr>\n",
              "      <th>1</th>\n",
              "      <td>Riti</td>\n",
              "      <td>30</td>\n",
              "      <td>Delhi</td>\n",
              "    </tr>\n",
              "    <tr>\n",
              "      <th>2</th>\n",
              "      <td>Aadi</td>\n",
              "      <td>16</td>\n",
              "      <td>New york</td>\n",
              "    </tr>\n",
              "  </tbody>\n",
              "</table>\n",
              "</div>"
            ],
            "text/plain": [
              "   name  age      city\n",
              "0  jack   34    Sydney\n",
              "1  Riti   30     Delhi\n",
              "2  Aadi   16  New york"
            ]
          },
          "metadata": {
            "tags": []
          },
          "execution_count": 10
        }
      ]
    },
    {
      "cell_type": "code",
      "metadata": {
        "id": "dRcmDpgavhrk",
        "colab": {
          "base_uri": "https://localhost:8080/",
          "height": 129
        },
        "outputId": "6ca080d3-2272-46f4-d356-93a850230d73"
      },
      "source": [
        "# Challenge 2\n",
        "# Create the Dataframe shown below in the Expected Output by inserting rows iteratively\n",
        "columns = ['x','y','z']\n",
        "yoyo = pd.DataFrame(columns=columns)\n",
        "\n",
        "for i in range(4):\n",
        "  for x in columns:\n",
        "    yoyo.loc[]\n"
      ],
      "execution_count": 11,
      "outputs": [
        {
          "output_type": "error",
          "ename": "SyntaxError",
          "evalue": "ignored",
          "traceback": [
            "\u001b[0;36m  File \u001b[0;32m\"<ipython-input-11-5ddea15d6189>\"\u001b[0;36m, line \u001b[0;32m8\u001b[0m\n\u001b[0;31m    yoyo.loc[]\u001b[0m\n\u001b[0m             ^\u001b[0m\n\u001b[0;31mSyntaxError\u001b[0m\u001b[0;31m:\u001b[0m invalid syntax\n"
          ]
        }
      ]
    },
    {
      "cell_type": "code",
      "metadata": {
        "id": "PMsJ5nML9EzX"
      },
      "source": [
        "# Challenge 2: Expected Output\n",
        "# [Do not run this cell]\n",
        "# Running this cell will clear the output"
      ],
      "execution_count": null,
      "outputs": []
    },
    {
      "cell_type": "code",
      "metadata": {
        "id": "Od_2Kd9ZvhhT"
      },
      "source": [
        "# Challenge 3\n",
        "# Create the Dataframe shown in the Expected Output below with randomly generated integers\n",
        "# \n",
        "OUR CODE GOES HERE"
      ],
      "execution_count": null,
      "outputs": []
    },
    {
      "cell_type": "code",
      "metadata": {
        "id": "5yOC8xvh99iF"
      },
      "source": [
        "# Challenge 3: Expected Output\n",
        "# Running this cell will clear the output\n",
        "# Attention: Do not run this cell!"
      ],
      "execution_count": null,
      "outputs": []
    },
    {
      "cell_type": "code",
      "metadata": {
        "id": "XBtytsCQvhYk"
      },
      "source": [
        "# Challenge 4\n",
        "# Create a Dataframe from the mnist_test csv file in the sample_data directory\n",
        "#\n",
        "OUR CODE GOES HERE"
      ],
      "execution_count": null,
      "outputs": []
    },
    {
      "cell_type": "code",
      "metadata": {
        "id": "5g5RBnCsvhOO"
      },
      "source": [
        "# Challenge 5\n",
        "# Create a Dataframe from dataset with the following url source\n",
        "# URL: http://bit.ly/NairobiBusesDataset\n",
        "#\n",
        "OUR CODE GOES HERE"
      ],
      "execution_count": null,
      "outputs": []
    },
    {
      "cell_type": "code",
      "metadata": {
        "id": "OK7_9XppvhGH"
      },
      "source": [
        "# Challenge 6\n",
        "# Change the column names of the dataset from this source (http://bit.ly/FiveYearData) \n",
        "# to: country, year, population, continent, life_exp, gdp_per_cap\n",
        "#\n",
        "OUR CODE GOES HERE"
      ],
      "execution_count": null,
      "outputs": []
    },
    {
      "cell_type": "code",
      "metadata": {
        "id": "0GUaxYY4vg6c"
      },
      "source": [
        "# Challenge 7\n",
        "# Choose the country, year and continent columns from a DataFrame in challenge 6\n",
        "#\n",
        "OUR CODE GOES HERE"
      ],
      "execution_count": null,
      "outputs": []
    },
    {
      "cell_type": "code",
      "metadata": {
        "id": "qgt-NO7RHDFe"
      },
      "source": [
        "# Challenge 8\n",
        "# Drop the population and life_exp columns from the DataFrame in challenge 6\n",
        "#\n",
        "OUR CODE GOES HERE"
      ],
      "execution_count": null,
      "outputs": []
    },
    {
      "cell_type": "markdown",
      "metadata": {
        "id": "8xDIxQXjv1cs"
      },
      "source": [
        "## 1.2 Manipulating Dataframes"
      ]
    },
    {
      "cell_type": "code",
      "metadata": {
        "id": "NYtpbBzPwLm6"
      },
      "source": [
        "# Example 1\n",
        "# While working with dataframes, sometimes we may want to iterate over our dataframe and do sopme operations on each row. Pandas gives us two methods to enable us to do this.\n",
        "# We are going to look at them in the following example.\n",
        "# \n",
        "\n",
        "df = pd.DataFrame([['AA', 1],['BB', 2],['CC', 3]], columns = ['name','value'])\n",
        "df\n",
        "\n",
        "# Uncomment after running previous lines\n",
        "# Since we are iterating over rows, we are going to use a pandas method called iterrows(). This method returns an iterator that contains indices of each row and data on each row. Each row is stored in a Series\n",
        "# for index, row in df.iterrows():\n",
        "#    print(row['name'], row['value'])\n",
        "\n",
        "\n",
        "# Uncomment after runnuni previous lines\n",
        "# The other method we that is available to us is itertuples() method. This method loops through each row and returns a named tuple.\n",
        "# for row in df.itertuples():\n",
        "#   print(row)"
      ],
      "execution_count": null,
      "outputs": []
    },
    {
      "cell_type": "code",
      "metadata": {
        "id": "RZHYg1hNwLbL"
      },
      "source": [
        "# Example 2\n",
        "# Applying a function to Dataframe row\n",
        "# This is useful when cleaning up data - converting formats, altering values etc.\n",
        "#  In this example we are going to create a third column then create a function that concatenates the values of the first and second column.\n",
        "df = pd.DataFrame([['AA', 1],['BB', 2],['CC', 3]], columns = ['name','value'])\n",
        "df\n",
        "\n",
        "# Uncomment after running previous lines\n",
        "\n",
        "# Define a function that takes in two values and returns the two values concatenated together\n",
        "# def function_1(val_1, val_2):\n",
        "#   # before retuning the values, we convert the first values into a string because values in one column are strings\n",
        "#     return val_1 + str(val_2)\n",
        "\n",
        "# Create a third column called col_a then apply a function that we defined above using python lambda.\n",
        "# Since lambda is a new concept, take a few minutes to read about it here: https://www.afternerd.com/blog/python-lambdas/ . Its not a difficult concept to grasp, so it should not take alot of time to understand.\n",
        "# df['col_a'] = df.apply(lambda row: function_1(row['name'], row['value']), axis=1)\n",
        "# df\n",
        "\n",
        "# Uncomment after running previous lines\n",
        "# We create a new function that takes in a row value and multiplies it by 2\n",
        "# def function_2(row):\n",
        "#     return row['value'] * 2\n",
        "\n",
        "# Create another column called col_b, that applies the above function and populates the column with our new values\n",
        "# df['col_b'] = df.apply(lambda row: function_2(row), axis=1)\n",
        "# df"
      ],
      "execution_count": null,
      "outputs": []
    },
    {
      "cell_type": "code",
      "metadata": {
        "id": "6loPOfpMwLT0"
      },
      "source": [
        "# Example 3\n",
        "# Applying a function to a specific column of Dataframe\n",
        "# \n",
        "df = pd.DataFrame([['AA', 1], ['BB', 2], ['CC', 3]], columns=['name', 'value'])\n",
        "df\n",
        "\n",
        "# Uncomment after running previous lines\n",
        "# def function_1(val_1):\n",
        "#     return \"prefix_\" + str(val_1)\n",
        "  \n",
        "# Uncomment after running previous lines\n",
        "# To be able to apply a function to the elements of the name column, we use the map function. This function allows us to apply a specific function to all the elements of the targeted column.\n",
        "# df['name'] = df['name'].map(function_1)\n",
        "# df \n"
      ],
      "execution_count": null,
      "outputs": []
    },
    {
      "cell_type": "code",
      "metadata": {
        "id": "lqYeZTldwLPO"
      },
      "source": [
        "# Example 4\n",
        "# Finding and replacing a value in Dataframe\n",
        "# \n",
        "df = pd.DataFrame([['One', 'Two'], ['Four', 'Abcd'], ['One', 'Bcd'], ['Five', 'Cd']], columns=['A', 'B'])\n",
        "df\n",
        "\n",
        "# Uncomment after running previous lines\n",
        "# df.loc[df['A'] == 'One', 'A'] = 0\n",
        "# df"
      ],
      "execution_count": null,
      "outputs": []
    },
    {
      "cell_type": "markdown",
      "metadata": {
        "id": "2HvwqV6UwMFI"
      },
      "source": [
        "### <font color=\"green\">1.2 Challenges</font>"
      ]
    },
    {
      "cell_type": "code",
      "metadata": {
        "id": "hSm2qyoEwSwo"
      },
      "source": [
        "# Challenge 1\n",
        "# Create a Dataframe from the Dictionary below and iterate over the rows\n",
        "graduates = {'name':[\"Jane Njoroge\", \"June Adhiambo\", \"Kevin Swale\", \"Heidi Sang\"], \n",
        "        'degree': [\"MBA\", \"BCA\", \"M.Tech\", \"MBA\"], \n",
        "        'score':[90, 40, 80, 98]} \n",
        "\n",
        "OUR CODE GOES HERE"
      ],
      "execution_count": null,
      "outputs": []
    },
    {
      "cell_type": "code",
      "metadata": {
        "id": "9rMJz-2uwTWc"
      },
      "source": [
        "# Challenge 2\n",
        "# Apply the given function to SAL-RATE column\n",
        "# http://bit.ly/EmployeeSalary\n",
        "\n",
        "# Get rid of $ and , in the SAL-RATE, then convert it to a float\n",
        "def money_to_float(money_str):\n",
        "    return float(money_str.replace(\"$\",\"\").replace(\",\",\"\"))\n",
        "\n",
        "OUR CODE GOES HERE"
      ],
      "execution_count": null,
      "outputs": []
    },
    {
      "cell_type": "code",
      "metadata": {
        "id": "Pc0MmJHXwTQP"
      },
      "source": [
        "# Challenge 3\n",
        "# Replace the value in M.Tech in Challenge 1 Dataframe with Msc.Tech\n",
        "# \n",
        "OUR CODE GOES HERE"
      ],
      "execution_count": null,
      "outputs": []
    },
    {
      "cell_type": "markdown",
      "metadata": {
        "id": "uCmfk1Urv7mM"
      },
      "source": [
        "## 1.3 Splitting and Merging Dataframes\n"
      ]
    },
    {
      "cell_type": "code",
      "metadata": {
        "id": "n0b8ZowiwGxU"
      },
      "source": [
        "# Example 1\n",
        "import pandas as pd\n",
        "# Merging Dataframes by columns using join\n",
        "# Create the first dataframe\n",
        "df = pd.DataFrame([[1, 3], [2, 4]], columns=['A', 'B'])\n",
        "df\n",
        "\n",
        "# Uncomment and run after running previous lines\n",
        "# Create the second dataframe\n",
        "df2 = pd.DataFrame([[1, 5], [1, 6]], columns=['A', 'C'])\n",
        "df2\n",
        "\n",
        "# Uncomment and run after running previous lines\n",
        "df.merge(df2, how='left', on='A')  # merges on columns A\n",
        "\n",
        "# Uncomment and run after running previous lines\n",
        "df2.drop_duplicates(subset=['A'], inplace=True)\n",
        "\n",
        "# Uncomment and run after running previous lines\n",
        "df.merge(df2, how='left', on='A')"
      ],
      "execution_count": null,
      "outputs": []
    },
    {
      "cell_type": "code",
      "metadata": {
        "id": "t7nm8_etwGtF"
      },
      "source": [
        "# Example 2\n",
        "# Merging Dataframes by columns on index\n",
        "# \n",
        "df = pd.DataFrame([[1, 3], [2, 4]], columns=['A', 'B'])\n",
        "df\n",
        "\n",
        "# Uncomment and run after running previous lines\n",
        "# df2 = pd.DataFrame([[1, 5], [1, 6]], columns=['A', 'D'])\n",
        "# df2\n",
        "\n",
        "# Uncomment and run after running previous lines\n",
        "# pd.concat([df, df2], axis=1)"
      ],
      "execution_count": null,
      "outputs": []
    },
    {
      "cell_type": "code",
      "metadata": {
        "id": "LyyI-VpiwGps"
      },
      "source": [
        "# Example 3\n",
        "# Merging Dataframes and splitting again \n",
        "# \n",
        "ts1 = [1,2,3,4]\n",
        "ts2 = [6,7,8,9]\n",
        "d = {'col_1': ts1, 'col_2': ts2}\n",
        "d\n",
        "\n",
        "# Uncomment and run after running previous lines\n",
        "# df_1 = pd.DataFrame(data=d)\n",
        "# df_1\n",
        "\n",
        "# Uncomment and run after running previous lines\n",
        "# df_2 = pd.DataFrame(np.random.randn(3, 2), columns=['col_1', 'col_2'])\n",
        "# df_2\n",
        "\n",
        "# Uncomment and run after running previous lines\n",
        "# df_all = pd.concat((df_1, df_2), axis=0, ignore_index=True)\n",
        "# df_all\n",
        "\n",
        "# Uncomment and run after running previous lines\n",
        "# print(df_1.shape)\n",
        "# print(df_2.shape)\n",
        "# print(df_all.shape)\n",
        "\n",
        "# Uncomment and run after running previous lines\n",
        "# print(df_1.shape)\n",
        "# print(df_2.shape)\n",
        "# print(df_all.shape)\n",
        "\n",
        "# Uncomment and run after running previous lines\n",
        "# print(df_train.shape)\n",
        "# print(df_test.shape)\n",
        "# print(df_all.shape)"
      ],
      "execution_count": null,
      "outputs": []
    },
    {
      "cell_type": "code",
      "metadata": {
        "id": "p66l2GrFwGFi"
      },
      "source": [
        "# Example 4\n",
        "# Grouping by a Dataframe and iterating over grouped series\n",
        "# \n",
        "classes = [\"class 1\"] * 5 + [\"class 2\"] * 5\n",
        "sub_class = ['c1','c2','c2','c1','c3'] + ['c1','c2','c3','c2','c3']\n",
        "vals = [1,3,5,1,3] + [2,6,7,5,2]\n",
        "p_df = pd.DataFrame({\"class\": classes, \"sub_class\": sub_class, \"vals\": vals})\n",
        "p_df\n",
        "\n",
        "# Uncomment and run after running previous lines\n",
        "# grouped = p_df.groupby(['class', 'sub_class'])['vals'].median()\n",
        "# grouped\n",
        "\n",
        "# Uncomment and run after running previous lines\n",
        "# for index_val, value in grouped.iteritems():\n",
        "#     class_name, sub_class_name = index_val\n",
        "#     print(class_name, \":\", sub_class_name, \":\", value)"
      ],
      "execution_count": null,
      "outputs": []
    },
    {
      "cell_type": "markdown",
      "metadata": {
        "id": "B6WJ99XswWfn"
      },
      "source": [
        "### <font color=\"green\">1.3 Challenges</font>"
      ]
    },
    {
      "cell_type": "code",
      "metadata": {
        "id": "HVLYNjFNwY39"
      },
      "source": [
        "# Challenge 1\n",
        "# Create the Dataframes from the given Dictionaries below and then merge them \n",
        "#\n",
        "dt1 = {\n",
        "        'subject_id': ['1', '2', '3', '4', '5'],\n",
        "        'first_name': ['Fridah', 'Kwasi', 'Victor', 'Alice', 'Audrey'], \n",
        "        'last_name': ['Njeri', 'Adi Dako', 'Oliech', 'Tergat', 'Cheng']}\n",
        "\n",
        "dt2 = {\n",
        "        'subject_id': ['4', '5', '6', '7', '8'],\n",
        "        'first_name': ['Michael', 'Judy', 'Lenny', 'Mohammed', 'Betty'], \n",
        "        'last_name': ['Macharia', 'Waithera', 'Baraza', 'Ali', 'Kyalo']}\n",
        "\n",
        "OUR CODE GOES HERE"
      ],
      "execution_count": null,
      "outputs": []
    },
    {
      "cell_type": "code",
      "metadata": {
        "id": "g4l9Z5MWwYo6"
      },
      "source": [
        "# Challenge 2\n",
        "# Using dt1 and dt2 dictionaries from Challenge 1, create another Dataframe from\n",
        "# the dt3 Dictionary below. Then merge all of them along the subject_id value\n",
        "# i.e. Columns from left; subject_id, first_name, last_name, test_id\n",
        "dt3 = {\n",
        "        'subject_id': ['1', '2', '3', '4', '5', '7', '8', '9', '10', '11'],\n",
        "        'test_id': [51, 15, 15, 61, 16, 14, 15, 1, 61, 16]}\n",
        "\n",
        "OUR CODE GOES HERE"
      ],
      "execution_count": null,
      "outputs": []
    },
    {
      "cell_type": "code",
      "metadata": {
        "id": "C9Xay1HLwYes"
      },
      "source": [
        "# Challenge 3\n",
        "# Create dataframes using dt1 and dt2 from Challenge 1 then merge based on indexes\n",
        "# \n",
        "OUR CODE GOES HERE"
      ],
      "execution_count": null,
      "outputs": []
    },
    {
      "cell_type": "code",
      "metadata": {
        "id": "a9mm47zkwYUY"
      },
      "source": [
        "# Challenge 4\n",
        "# Create a dataframe from the following url (http://bit.ly/MDSTelecomData), then \n",
        "# and determine the sum of the durations per month of calls, sms and data entries.\n",
        "# Hint: Use groupby i.e. month, duration\n",
        "#\n",
        "OUR CODE GOES HERE"
      ],
      "execution_count": null,
      "outputs": []
    },
    {
      "cell_type": "markdown",
      "metadata": {
        "id": "6rPtQTpLv-lG"
      },
      "source": [
        "## 1.4 Converting Columns"
      ]
    },
    {
      "cell_type": "code",
      "metadata": {
        "id": "sSTboonmwHpS"
      },
      "source": [
        "# Example 1\n",
        "# \n",
        "# Converting categorical columns to integer columns using label encoding method\n",
        "# so as to prepare to use categorical data in analysis. \n",
        "# For this example, we'll use a new Python library called sklearn(sci-kit learn). Sklearn is machine learning library for python that is used in data mining and data anlysis. \n",
        "# As we progress in our data science journey we'll learn more about it's capabilities. You will use this throughout module 1 and 2 of core as well, and in many future projects.\n",
        "# From this library we are importing a method called LabelEncoder that will help us in converting categorical data into integers\n",
        "from sklearn.preprocessing import LabelEncoder\n",
        "label_encoder = LabelEncoder()\n",
        "\n",
        "# Scenario 1\n",
        "df = pd.DataFrame({'col_1': [1, 0, 1, 2], \n",
        "                   'col_2': [1.2, 3.1, 4.4, 5.5], \n",
        "                   'col_3': [1, 2, 3, 4], \n",
        "                   'col_4': ['a', 'b', 'c', 'd']})\n",
        "df\n",
        "# Some of the models that you will learn about in the future only deal with numbers, particularly integers\n",
        "# First, we will convert col_4 to be in integer column, and the value within it to be integers as well.\n",
        "# df.info()\n",
        "\n",
        "# This will study the column, figure out the unique categories, and assign an integer value to each starting from 0\n",
        "# This is internal to the label_encoder, it doesn't change the dataframe yet\n",
        "# label_encoder.fit(df['col_4'])\n",
        "\n",
        "# View the labels in the column\n",
        "# list(label_encoder.classes_)\n",
        "\n",
        "# This is how you transform the categories into intergers\n",
        "# df['col_4'] = label_encoder.transform(df['col_4'])\n",
        "\n",
        "# df\n",
        "# df.info()\n",
        "\n",
        "# Uncomment after running previous lines\n",
        "# Slightly different scenario: repeated categories : ['a', 'b', 'b', 'a']. In this scenario, we will have duplicates in our categories\n",
        "# df2 = pd.DataFrame({'col_1': [1, 0, 1, 2], \n",
        "#                    'col_2': [1.2, 3.1, 4.4, 5.5], \n",
        "#                    'col_3': [1, 2, 3, 4], \n",
        "#                    'col_4': ['a', 'b', 'b', 'a']})\n",
        "# df2\n",
        "\n",
        "# # Fitting the label encoder method in the column\n",
        "# label_encoder.fit(df2['col_4'])\n",
        "\n",
        "# # Converting the categories into integers\n",
        "# df2['col_4'] = label_encoder.transform(df2['col_4'])\n",
        "# # view the dataframe with the converted column\n",
        "# df2\n",
        "# df2.info()\n"
      ],
      "execution_count": null,
      "outputs": []
    },
    {
      "cell_type": "code",
      "metadata": {
        "id": "yXtjTSq4wHkN"
      },
      "source": [
        "# Example 2\n",
        "# Reducing high dimensionality from categorical column\n",
        "# We will learn more about the topic of Dimension reduction in Core\n",
        "# More info: \n",
        "# 1) http://bit.ly/DimensionReductionExample\n",
        "# 2) http://bit.ly/DimensionReductionProblem\n",
        "#\n",
        "df = pd.DataFrame({'groups': ['group 1','group 2','group 1','group 2','group 3','group 4','group 5','group 1','group 2','group 5'], \n",
        "                   'vals': [1,2,3,4,5,6,7,8,9,10]})\n",
        "df\n",
        "\n",
        "# Uncomment after running previous lines\n",
        "# df['groups'].value_counts()\n",
        "\n",
        "# Uncomment after running previous lines\n",
        "# high_dim_columns = ['groups']\n",
        "\n",
        "# Uncomment after running previous lines\n",
        "# for column in high_dim_columns:\n",
        "#    a = pd.DataFrame(df[column].value_counts() <= 2)\n",
        "#    unique_values = a.index[a[column]].values\n",
        "#    df.loc[df[column].isin(unique_values), column] = 'other'\n",
        "# df"
      ],
      "execution_count": null,
      "outputs": []
    },
    {
      "cell_type": "code",
      "metadata": {
        "id": "g37pMnfcwHfp"
      },
      "source": [
        "# Example 3\n",
        "# Converting categorical column to one hot encoded column \n",
        "# More information on hot encoding: http://bit.ly/HotEncoding\n",
        "# \n",
        "df = pd.DataFrame({'sex': ['M', 'F', 'M', 'F'], \n",
        "                   'col_2': [1.2, 3.1, 4.4, 5.5], \n",
        "                   'col_3': [1, 2, 3, 4], \n",
        "                   'col_4': ['a', 'b', 'c', 'd']})\n",
        "df\n",
        "\n",
        "# Uncomment after running previous lines\n",
        "# categorical_variables = ['sex']\n",
        "\n",
        "# Uncomment after running previous lines\n",
        "# for variable in categorical_variables:\n",
        "#    df[variable].fillna(\"Missing\", inplace=True) # Fill missing data with the word \"Missing\"\n",
        "#    dummies = pd.get_dummies(df[variable], prefix=variable) # Create array of dummies\n",
        "#    df = pd.concat([df, dummies], axis=1) # Update dataframe to include dummies and drop the main variable\n",
        "#    df.drop([variable], axis=1, inplace=True) \n",
        "# df"
      ],
      "execution_count": null,
      "outputs": []
    },
    {
      "cell_type": "markdown",
      "metadata": {
        "id": "P_089UxhwZ__"
      },
      "source": [
        "### <font color=\"green\">1.4 Challenges</font>"
      ]
    },
    {
      "cell_type": "code",
      "metadata": {
        "id": "J_EknU8IwdWN"
      },
      "source": [
        "# Challenge 1\n",
        "# Create a dataframe from the given dictionary below then\n",
        "# Convert the categorical column to an integer column\n",
        "# \n",
        "dt1 = {'patient': [1, 1, 1, 2, 2], \n",
        "        'obs': [1, 2, 3, 1, 2], \n",
        "        'diagnosis': [0, 1, 0, 1, 0],\n",
        "        'score': ['weak', 'strong', 'normal', 'weak', 'normal']}\n",
        "\n",
        "OUR CODE GOES HERE"
      ],
      "execution_count": null,
      "outputs": []
    },
    {
      "cell_type": "code",
      "metadata": {
        "id": "O9ByukuiwdHG"
      },
      "source": [
        "# Challenge 2\n",
        "# Convert the categorical column to one hot encoded column\n",
        "# in the following list\n",
        "# \n",
        "list1 = [[\"Nairobi\", \"range\", 3000], [\"Mombasa\", \"tuktuk\", 4000], [\"Nakuru\", \"tuktuk\", 1000]]\n",
        "\n",
        "OUR CODE GOES HERE"
      ],
      "execution_count": null,
      "outputs": []
    },
    {
      "cell_type": "markdown",
      "metadata": {
        "id": "I6tAKZoawCFA"
      },
      "source": [
        "## 1.5 Splitting Columns\n"
      ]
    },
    {
      "cell_type": "code",
      "metadata": {
        "id": "9yFk2RVZwIgu"
      },
      "source": [
        "# Example 1\n",
        "# Splitting a column using a delimiter\n",
        "# \n",
        "data = [{'test': 'vikash|Arpit', 'val': 6},\n",
        "        {'test': 'vikash_1|arpit|Vinayp', 'val': 3},\n",
        "        {'test': 'arpit|vinayp', 'val': 2}]\n",
        "df = pd.DataFrame.from_dict(data, orient='columns')\n",
        "df\n",
        "\n",
        "# Uncomment after running previous lines\n",
        "# df['test'].apply(lambda x: pd.Series([i for i in reversed(x.lower().split('|'))]))"
      ],
      "execution_count": null,
      "outputs": []
    },
    {
      "cell_type": "code",
      "metadata": {
        "id": "j73HA4WfwIWz"
      },
      "source": [
        "# Example 2\n",
        "# Splitting a column using delimiter and one hot encode the values \n",
        "# \n",
        "data = [{'test': 'vikash|Arpit', 'val': 6},\n",
        "        {'test': 'vikash_1|arpit|Vinayp', 'val': 3},\n",
        "        {'test': 'arpit|vinayp', 'val': 2}]\n",
        "\n",
        "df = pd.DataFrame.from_dict(data, orient='columns')\n",
        "df\n",
        "\n",
        "# Uncomment after running previous lines\n",
        "# chosen_columns = set()\n",
        "# for idx, row in df.iterrows():\n",
        "#     for val in str(row['test']).lower().split('|'):\n",
        "#         chosen_columns.add(val.strip())\n",
        "\n",
        "# Uncomment after running previous lines\n",
        "# chosen_columns_list = list(chosen_columns)\n",
        "\n",
        "# Uncomment after running previous lines\n",
        "# chosen_columns_list.sort(key=len, reverse=True) \n",
        "# chosen_columns_list\n",
        "\n",
        "\n",
        "# def get_one_hot_encoded_column(col_value):\n",
        "#     col_value = col_value.lower()\n",
        "#     new_col_value = ''\n",
        "#     for val in chosen_columns_list:\n",
        "#         if val in col_value.split('|'):\n",
        "#             col_value = col_value.replace(val, '')\n",
        "#             new_col_value += '1,'\n",
        "#         else:\n",
        "#             new_col_value += '0,'\n",
        "#     return new_col_value[:-1]\n",
        "\n",
        "# Uncomment after running previous lines\n",
        "# df['test_new'] = df['test'].map(get_one_hot_encoded_column)\n",
        "# df\n",
        "\n",
        "# Uncomment after running previous lines\n",
        "# df2 = df['test_new'].apply(lambda x: pd.Series([i for i in x.lower().split(',')]))\n",
        "# df2\n",
        "\n",
        "# Uncomment after running previous lines\n",
        "# df2.columns = chosen_columns_list\n",
        "# df2\n",
        "\n",
        "# Uncomment after running previous lines\n",
        "# df2.info()\n",
        "\n",
        "# Uncomment after running previous lines\n",
        "# df2 = df2.apply(pd.to_numeric)\n",
        "\n",
        "# Uncomment after running previous lines\n",
        "# df2.info()\n",
        "\n",
        "# Uncomment after running previous lines\n",
        "# df_new = pd.concat([df, df2], axis=1)\n",
        "\n",
        "# Uncomment after running previous lines\n",
        "# df_new.drop(['test', 'test_new'], inplace=True, axis=1)\n",
        "# df_new"
      ],
      "execution_count": null,
      "outputs": []
    },
    {
      "cell_type": "markdown",
      "metadata": {
        "id": "G3rltepOweG5"
      },
      "source": [
        "### <font color=\"green\">1.5 Challenges</font>"
      ]
    },
    {
      "cell_type": "code",
      "metadata": {
        "id": "Oz3fFMe8wgav"
      },
      "source": [
        "# Challenge 1\n",
        "# Split the following dataframe into multiple rows\n",
        "#\n",
        "df = pd.DataFrame({\n",
        "   'EmployeeId': ['123', '124', '125', '126', '126'],\n",
        "   'City': ['Nairobi|Mombasa', 'Nakuru|Nairobi|Kisumu', 'Nairobi|Mombasa', 'Nairobi|Nakuru', 'Mombasa'] \n",
        "})\n",
        "\n",
        "OUR CODE GOES HERE"
      ],
      "execution_count": null,
      "outputs": []
    },
    {
      "cell_type": "code",
      "metadata": {
        "id": "DAz03okQwhHU"
      },
      "source": [
        "# Challenge 2\n",
        "# Split the following dataframe \n",
        "# \n",
        "\n",
        "list_1 = [1,2,3,4,5]\n",
        "list_2 = [2,4,6,8,10]\n",
        "list_3 = ['one','two,three,four','three,four,five','four,five','five']\n",
        "\n",
        "df = pd.DataFrame({'A' : list_1, 'B' : list_2, 'C' : list_3})\n",
        "\n",
        "OUR CODE GOES HERE"
      ],
      "execution_count": null,
      "outputs": []
    }
  ]
}